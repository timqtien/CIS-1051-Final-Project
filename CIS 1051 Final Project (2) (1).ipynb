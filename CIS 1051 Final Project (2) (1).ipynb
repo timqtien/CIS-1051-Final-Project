{
 "cells": [
  {
   "cell_type": "code",
   "execution_count": 50,
   "id": "fb1f4694",
   "metadata": {},
   "outputs": [],
   "source": [
    "import pandas as pd\n",
    "import numpy as np\n",
    "import matplotlib.pyplot as plt\n",
    "import statsmodels.api as sm\n",
    "from statsmodels.stats.weightstats import ztest as ztest\n",
    "from statsmodels.stats.proportion import proportions_ztest as propztest\n",
    "from scipy import stats\n",
    "import random as rm"
   ]
  },
  {
   "cell_type": "code",
   "execution_count": 58,
   "id": "a6320b44",
   "metadata": {
    "scrolled": true
   },
   "outputs": [
    {
     "data": {
      "text/html": [
       "<div>\n",
       "<style scoped>\n",
       "    .dataframe tbody tr th:only-of-type {\n",
       "        vertical-align: middle;\n",
       "    }\n",
       "\n",
       "    .dataframe tbody tr th {\n",
       "        vertical-align: top;\n",
       "    }\n",
       "\n",
       "    .dataframe thead th {\n",
       "        text-align: right;\n",
       "    }\n",
       "</style>\n",
       "<table border=\"1\" class=\"dataframe\">\n",
       "  <thead>\n",
       "    <tr style=\"text-align: right;\">\n",
       "      <th></th>\n",
       "      <th>1</th>\n",
       "      <th>0</th>\n",
       "    </tr>\n",
       "  </thead>\n",
       "  <tbody>\n",
       "    <tr>\n",
       "      <th>0</th>\n",
       "      <td>0</td>\n",
       "      <td>0</td>\n",
       "    </tr>\n",
       "    <tr>\n",
       "      <th>1</th>\n",
       "      <td>0</td>\n",
       "      <td>1</td>\n",
       "    </tr>\n",
       "    <tr>\n",
       "      <th>2</th>\n",
       "      <td>0</td>\n",
       "      <td>1</td>\n",
       "    </tr>\n",
       "    <tr>\n",
       "      <th>3</th>\n",
       "      <td>0</td>\n",
       "      <td>0</td>\n",
       "    </tr>\n",
       "    <tr>\n",
       "      <th>4</th>\n",
       "      <td>1</td>\n",
       "      <td>1</td>\n",
       "    </tr>\n",
       "    <tr>\n",
       "      <th>5</th>\n",
       "      <td>1</td>\n",
       "      <td>0</td>\n",
       "    </tr>\n",
       "    <tr>\n",
       "      <th>6</th>\n",
       "      <td>1</td>\n",
       "      <td>0</td>\n",
       "    </tr>\n",
       "    <tr>\n",
       "      <th>7</th>\n",
       "      <td>1</td>\n",
       "      <td>1</td>\n",
       "    </tr>\n",
       "    <tr>\n",
       "      <th>8</th>\n",
       "      <td>1</td>\n",
       "      <td>0</td>\n",
       "    </tr>\n",
       "  </tbody>\n",
       "</table>\n",
       "</div>"
      ],
      "text/plain": [
       "   1  0\n",
       "0  0  0\n",
       "1  0  1\n",
       "2  0  1\n",
       "3  0  0\n",
       "4  1  1\n",
       "5  1  0\n",
       "6  1  0\n",
       "7  1  1\n",
       "8  1  0"
      ]
     },
     "execution_count": 58,
     "metadata": {},
     "output_type": "execute_result"
    }
   ],
   "source": [
    "df = pd.read_excel(r\"C:\\Users\\logan\\Documents\\ex7.xlsx\")\n",
    "names = df.columns\n",
    "df"
   ]
  },
  {
   "cell_type": "code",
   "execution_count": 59,
   "id": "6aa3ac8d",
   "metadata": {},
   "outputs": [],
   "source": [
    "array = df.to_numpy()\n",
    "columns = array.shape[1]\n",
    "smpl_a = array[:,0]\n",
    "if columns == 2:\n",
    "    smpl_b = array[:,1]\n",
    "if columns >= 3:\n",
    "    x = array[:, 1:columns]\n",
    "    lin_x = []\n",
    "    for i in range(1,columns): \n",
    "        lin_x.append(array[:,i])"
   ]
  },
  {
   "cell_type": "code",
   "execution_count": 60,
   "id": "7ac747eb",
   "metadata": {},
   "outputs": [],
   "source": [
    "tail_types = {\"left\":\"less\", \"right\":\"greater\", \"two\":\"two-sided\"}\n",
    "tail_types2 = {\"left\":\"smaller\", \"right\":\"larger\", \"two\":\"two-sided\"}\n",
    "colors = ['red', 'blue', 'black', 'green', 'pink', 'yellow', 'purple', 'orange']"
   ]
  },
  {
   "cell_type": "code",
   "execution_count": 61,
   "id": "9649c617",
   "metadata": {},
   "outputs": [],
   "source": [
    "#one sample CI\n",
    "def one_smpl_CI():\n",
    "    ans = input(\"Would you like a proportion or normal interval?\")\n",
    "    alpha = float(input(\"What is your level of confidence (express as a decimal)? \"))\n",
    "    \n",
    "    if ans == 'normal':\n",
    "        if len(smpl_a) < 30:\n",
    "            ci_1smpl = stats.t.interval(confidence=alpha, df=len(smpl_a)-1, loc=np.mean(smpl_a), scale=stats.sem(smpl_a))\n",
    "        else:\n",
    "            ci_1smpl = stats.norm.interval(confidence=alpha, loc=np.mean(smpl_a), scale=stats.sem(smpl_a))\n",
    "    elif ans == 'proportion':\n",
    "        p_hat = np.mean(smpl_a)\n",
    "        ci_1smpl = stats.norm.interval(confidence=alpha, loc= p_hat , scale=np.sqrt(p_hat*(1-p_hat)/len(smpl_a)))\n",
    "    \n",
    "    print(f\"Your {alpha*100}% confidence interval is {ci_1smpl}\")\n",
    "    \n",
    "    another = input(\"Would you like to perform another test (y/n)? \")\n",
    "    if another == 'y':\n",
    "        what_test()"
   ]
  },
  {
   "cell_type": "code",
   "execution_count": 62,
   "id": "b70a4115",
   "metadata": {},
   "outputs": [],
   "source": [
    "#one sample test\n",
    "def one_smpl_test():\n",
    "    ans = input(\"Would you like a proportion or normal interval?\")\n",
    "    h0 = float(input(\"What is H0? \"))\n",
    "    \n",
    "    if ans == 'normal':\n",
    "        \n",
    "        if len(smpl_a) < 30:\n",
    "            tail = tail_types[input(\"How should the test be tailed (left, right, or two)? \")]\n",
    "            test_1smpl = stats.ttest_1samp(smpl_a, popmean=h0, alternative=tail)\n",
    "        \n",
    "        else:\n",
    "            tail = tail_types2[input(\"How should the test be tailed (left, right, or two)? \")]\n",
    "            z, p = ztest(smpl_a, alternative = tail, value = h0)\n",
    "            test_1smpl = f\"Your Z statistic is {z} and your p value is {p}\"\n",
    "    \n",
    "    elif ans == 'proportion':\n",
    "        tail = tail_types2[input(\"How should the test be tailed (left, right, or two)? \")]\n",
    "        suc = np.count_nonzero(smpl_a)\n",
    "        n = len(smpl_a)\n",
    "        z, p = propztest(suc, n, alternative = tail, value = h0)\n",
    "        test_1smpl = f\"Your Z statistic is {z} and your p value is {p}\"\n",
    "        \n",
    "    \n",
    "    print(test_1smpl)\n",
    "    \n",
    "    another = input(\"Would you like to perform another test (y/n)? \")\n",
    "    if another == 'y':\n",
    "        what_test()"
   ]
  },
  {
   "cell_type": "code",
   "execution_count": 63,
   "id": "e3841df1",
   "metadata": {},
   "outputs": [],
   "source": [
    "#two sample CI\n",
    "def two_smpl_CI():\n",
    "    ans = input(\"Would you like a proportion or normal interval?\")\n",
    "    alpha = float(input(\"What is your level of confidence (express as a decimal)? \"))\n",
    "\n",
    "    if ans == 'normal':\n",
    "    \n",
    "        n1 = smpl_a.size;n2 = smpl_b.size\n",
    "        x1 = np.mean(smpl_a);x2 = np.mean(smpl_b)\n",
    "        v1 = np.var(smpl_a);v2 = np.var(smpl_b)\n",
    "        delta = x1-x2\n",
    "    \n",
    "        if n1 >= 30:\n",
    "            var = np.sqrt(v1/n1 + v2/n2)\n",
    "            ci_2smpl = stats.norm.interval(confidence=alpha, df=n1-1, loc=delta, scale=var)\n",
    "    \n",
    "        else:\n",
    "            pooled_var = ((n1-1)*v1 + (n2-1)*v2)/(n1+n2-2)\n",
    "            ci_2smpl = stats.t.interval(confidence=alpha, df=n1-1, loc=delta, scale=pooled_var)\n",
    "    \n",
    "    elif ans == 'proportion':\n",
    "        n1 = len(smpl_a); n2 = len(smpl_b)\n",
    "        p_hat_a = np.mean(smpl_a);p_hat_b = np.mean(smpl_b)\n",
    "        delta = p_hat_a - p_hat_b\n",
    "        var = np.sqrt(p_hat_a*(1-p_hat_a)/n1 + p_hat_b*(1-p_hat_b)/n2)\n",
    "    \n",
    "        ci_2smpl = stats.norm.interval(confidence=alpha, loc= delta , scale=var)\n",
    "        \n",
    "    \n",
    "    print(f\"Your {alpha*100}% confidence interval is {ci_2smpl}\")\n",
    "    \n",
    "    another = input(\"Would you like to perform another test (y/n)? \")\n",
    "    if another == 'y':\n",
    "        what_test()"
   ]
  },
  {
   "cell_type": "code",
   "execution_count": 64,
   "id": "a2797167",
   "metadata": {},
   "outputs": [],
   "source": [
    "#two sample test\n",
    "def two_smpl_test():\n",
    "    ans = input(\"Would you like a proportion or normal test?\")\n",
    "    while ans != 'normal' and ans != 'proportion':\n",
    "        ans = input(\"Would you like a proportion or normal test?\")\n",
    "\n",
    "    h0 = float(input(\"What is H0? \"))\n",
    "    if ans == 'normal':\n",
    "        if len(smpl_a) < 30:\n",
    "            tail = tail_types[input(\"How should the test be tailed (left, right, or two)? \")]\n",
    "            test_2smpl = stats.ttest_ind_from_stats(mean1=np.mean(smpl_a), std1=stats.sem(smpl_a), nobs1=len(smpl_a), \n",
    "                                         mean2=np.mean(smpl_b), std2=stats.sem(smpl_b), nobs2=len(smpl_b), alternative=tail)\n",
    "        else:\n",
    "            tail = tail_types2[input(\"How should the test be tailed (left, right, or two)? \")]\n",
    "            z, p = ztest(smpl_a, smpl_b, alternative = tail, value = h0)\n",
    "            test_2smpl = f\"Your Z statistic is {z} and your p value is {p}\"\n",
    "\n",
    "    elif ans == 'proportion':\n",
    "        tail = tail_types2[input(\"How should the test be tailed (left, right, or two)? \")]\n",
    "        suc_a = np.count_nonzero(smpl_a); suc_b = np.count_nonzero(smpl_b)\n",
    "        n_a = len(smpl_a); n_b = len(smpl_b)\n",
    "        suc = np.array([suc_a, suc_b]);n = np.array([n_a, n_b])\n",
    "        z, p = propztest(suc, n, alternative = tail, value = h0)\n",
    "        test_2smpl = f\"Your Z statistic is {z} and your p value is {p}\"\n",
    "\n",
    "    print(test_2smpl)\n",
    "    \n",
    "    another = input(\"Would you like to perform another test (y/n)? \")\n",
    "    if another == 'y':\n",
    "        what_test()\n"
   ]
  },
  {
   "cell_type": "code",
   "execution_count": 65,
   "id": "865ed81b-ee31-4ffe-a064-438b83dd6260",
   "metadata": {},
   "outputs": [],
   "source": [
    "#linear regression\n",
    "def lin_reg():\n",
    "    print(stats.linregress(smpl_a, smpl_b))\n",
    "    plt.scatter(smpl_a,smpl_b, **{\"color\":\"black\"})\n",
    "    b0, b1 = np.polyfit(smpl_a, smpl_b, 1)\n",
    "    plt.plot(smpl_a, b0*smpl_a+b1, **{\"color\":\"red\"})\n",
    "    plt.title(f'{names[0]} vs {names[1]}', fontweight = \"bold\")\n",
    "    plt.show()"
   ]
  },
  {
   "cell_type": "code",
   "execution_count": 66,
   "id": "0c82cacd-47cf-4ea7-89e1-802e5a63a2fc",
   "metadata": {},
   "outputs": [],
   "source": [
    "#multiple regression():\n",
    "def mult_reg(y, x):\n",
    "    color = rm.sample(colors, len(lin_x))\n",
    "    for i in range(len(lin_x)):\n",
    "        plt.scatter(lin_x[i], y, **{\"color\":f\"{color[i]}\"})\n",
    "        b0, b1 = np.polyfit(y, lin_x[i], 1)\n",
    "        plt.plot(b0*lin_x[i]+b1, lin_x[i], **{\"color\":f\"{color[i]}\"})\n",
    "        plt.title(f'{names[0]} vs {names[1::]}', fontweight = \"bold\")\n",
    "    plt.xlim(np.min(lin_x) - 0.05* abs(np.mean(lin_x)),np.max(lin_x)+ 0.05*abs(np.mean(lin_x))); plt.ylim(np.min(y) - 0.05* abs(np.mean(y)), np.max(y)+ 0.05* abs(np.mean(y)))\n",
    "        \n",
    "    constant = np.ones(len(x))\n",
    "    new_x = np.column_stack((x, constant))\n",
    "    results = sm.OLS(y, new_x).fit()\n",
    "    print(results.summary())"
   ]
  },
  {
   "cell_type": "code",
   "execution_count": 67,
   "id": "6c8426d0",
   "metadata": {
    "scrolled": true
   },
   "outputs": [
    {
     "name": "stdout",
     "output_type": "stream",
     "text": [
      "descriptive statistics:\n",
      "              1         0\n",
      "count  9.000000  9.000000\n",
      "mean   0.555556  0.444444\n",
      "std    0.527046  0.527046\n",
      "min    0.000000  0.000000\n",
      "25%    0.000000  0.000000\n",
      "50%    1.000000  0.000000\n",
      "75%    1.000000  1.000000\n",
      "max    1.000000  1.000000\n"
     ]
    },
    {
     "data": {
      "image/png": "[encoded data removed]",
      "text/plain": [
       "<Figure size 640x480 with 1 Axes>"
      ]
     },
     "metadata": {},
     "output_type": "display_data"
    },
    {
     "data": {
      "image/png": "[encoded data removed]",
      "text/plain": [
       "<Figure size 640x480 with 1 Axes>"
      ]
     },
     "metadata": {},
     "output_type": "display_data"
    },
    {
     "name": "stdout",
     "output_type": "stream",
     "text": [
      "You can perform a 'two sample CI', 'two sample test', or 'linear regression'\n",
      "note: if performing a proportion test, please format your data with success counted by a binary 1 = true, 0 = false system.\n",
      "note: if performning a regression, please format your data so that x is the first column.\n"
     ]
    },
    {
     "name": "stdin",
     "output_type": "stream",
     "text": [
      "What type of test would you like to perform?  two sample test\n",
      "Would you like a proportion or normal test? proportion\n",
      "What is H0?  0.5\n",
      "How should the test be tailed (left, right, or two)?  two\n"
     ]
    },
    {
     "name": "stdout",
     "output_type": "stream",
     "text": [
      "Your Z statistic is -1.6499158227686106 and your p value is 0.09896015401940585\n"
     ]
    },
    {
     "name": "stdin",
     "output_type": "stream",
     "text": [
      "Would you like to perform another test (y/n)?  n\n"
     ]
    }
   ],
   "source": [
    "def what_test():\n",
    "    one_sample_tests = ['one sample CI', 'one sample test', 'one sample proportion test']\n",
    "    two_sample_tests = ['two sample CI', 'two sample test', 'two sample proportion test', 'linear regression']\n",
    "    multiple_sample_tests = ['multiple regression']\n",
    "\n",
    "    print(\"descriptive statistics:\",\n",
    "          df.describe(), sep = \"\\n\")\n",
    "    plt.hist(smpl_a)\n",
    "    plt.title(f'{names[0]} histogram\\n\\n', fontweight = \"bold\");plt.show()\n",
    "    \n",
    "    if columns == 1:\n",
    "        print(\"You can perform a 'one sample CI' or 'one sample test'\")\n",
    "        print(\"note: if performing a proportion test, please format your data with success counted by a binary 1 = true, 0 = false system.\")\n",
    "        test_type = input(\"What type of test would you like to perform? \")\n",
    "        while test_type not in one_sample_tests:\n",
    "            test_type = input(\"What type of test would you like to perform? \")\n",
    "        if test_type == 'one sample CI':\n",
    "            one_smpl_CI()\n",
    "        elif test_type == 'one sample test':\n",
    "            one_smpl_test()\n",
    "        elif test_type == 'one sample proportion test':\n",
    "            one_smpl_prop()\n",
    "        \n",
    "    elif columns ==2:\n",
    "        plt.hist(smpl_b, color = 'red')\n",
    "        plt.title(f'{names[1]} histogram\\n\\n', fontweight = \"bold\");plt.show()\n",
    "        print(\"You can perform a 'two sample CI', 'two sample test', or 'linear regression'\")\n",
    "        print(\"note: if performing a proportion test, please format your data with success counted by a binary 1 = true, 0 = false system.\",\n",
    "              \"note: if performning a regression, please format your data so that x is the first column.\", sep = '\\n')\n",
    "        test_type = input(\"What type of test would you like to perform? \")\n",
    "        while test_type not in two_sample_tests:\n",
    "            test_type = input(\"What type of test would you like to perform? \")\n",
    "        if test_type == 'two sample CI':\n",
    "            two_smpl_CI()\n",
    "        elif test_type == 'two sample test':\n",
    "            two_smpl_test()\n",
    "        elif test_type == 'two sample proportion test':\n",
    "            two_smpl_prop()\n",
    "        elif test_type == 'linear regression':\n",
    "            lin_reg()\n",
    "            another = input(\"Would you like to perform another test (y/n)? \")\n",
    "            if another == 'y':\n",
    "                what_test()\n",
    "    elif columns >= 3:\n",
    "        for i in range(columns-1):\n",
    "            color = rm.sample(colors, len(lin_x))\n",
    "            plt.hist(lin_x[i], **{'color':f'{color[i]}'})\n",
    "            plt.title(f'{names[i+1]} histogram\\n\\n', fontweight = \"bold\");plt.show()\n",
    "\n",
    "        print(\"You can perform a 'multiple regression'\")\n",
    "        print(\"note: if performing a regression, please format your data so that y is the first column.\")\n",
    "        test_type = input(\"What type of test would you like to perform? \")\n",
    "        while test_type not in multiple_sample_tests:\n",
    "            test_type = input(\"What type of test would you like to perform? \")\n",
    "        if test_type == 'multiple regression':\n",
    "            mult_reg(smpl_a, x)\n",
    "            another = input(\"Would you like to perform another test (y/n)? \")\n",
    "            if another == 'y':\n",
    "                what_test()\n",
    "what_test()"
   ]
  },
  {
   "cell_type": "code",
   "execution_count": null,
   "id": "9f110c32",
   "metadata": {},
   "outputs": [],
   "source": []
  },
  {
   "cell_type": "code",
   "execution_count": null,
   "id": "001c1bfc-e362-4d67-9d15-d6fc2f707574",
   "metadata": {},
   "outputs": [],
   "source": []
  }
 ],
 "metadata": {
  "kernelspec": {
   "display_name": "Python 3 (ipykernel)",
   "language": "python",
   "name": "python3"
  },
  "language_info": {
   "codemirror_mode": {
    "name": "ipython",
    "version": 3
   },
   "file_extension": ".py",
   "mimetype": "text/x-python",
   "name": "python",
   "nbconvert_exporter": "python",
   "pygments_lexer": "ipython3",
   "version": "3.11.5"
  }
 },
 "nbformat": 4,
 "nbformat_minor": 5
}
